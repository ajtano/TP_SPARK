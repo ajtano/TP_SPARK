{
 "cells": [
  {
   "cell_type": "markdown",
   "metadata": {},
   "source": [
    "                                                 TP TANO ASSANDE JACOB\n",
    "                                       Etudiant en master II data science big data"
   ]
  },
  {
   "cell_type": "code",
   "execution_count": 1,
   "metadata": {
    "scrolled": true
   },
   "outputs": [],
   "source": [
    "import findspark\n",
    "findspark.init()\n",
    "import pandas as pd\n",
    "from pyspark.sql import SparkSession\n",
    "import os\n",
    "\n",
    "try:\n",
    "    os.remove(\"metastore_db/db.lck\")\n",
    "    os.remove(\"metastore_db/dbex.lck\")\n",
    "except:\n",
    "    pass\n",
    "\n",
    "\n",
    "from pyspark.sql import SparkSession\n",
    "\n",
    "def build_spark_session(app_name, memory='4g', executors=4):\n",
    "    return SparkSession.builder\\\n",
    "                      .appName(app_name)\\\n",
    "                      .config('spark.executor.memory', memory)\\\n",
    "                      .config('spark.executor.instances', executors)\\\n",
    "                      .getOrCreate()\n",
    "\n",
    "spark_session = build_spark_session(app_name='ok-google')\n",
    "\n",
    "from pyspark.sql import functions as f"
   ]
  },
  {
   "cell_type": "raw",
   "metadata": {},
   "source": [
    "l'objectif est de predire l'appentence des clients a des transport lowcoast.\n",
    "Pour cela, nous utiliserons la librairie Ml de spark"
   ]
  },
  {
   "cell_type": "raw",
   "metadata": {},
   "source": [
    "perimetre: représente les identifaints des clients accessible à l'étude.\n",
    "histo_client: represente l'historique des données clients sur une période donnée\n",
    "histo_train: represente l'historique des données de commandes trains.\n",
    "histo_lowcost: represente l'historique des données de client lowcost (défini avec le métier).\n",
    "visites: représente l'historique des données de navigation des clients sur le site."
   ]
  },
  {
   "cell_type": "raw",
   "metadata": {},
   "source": [
    "1 - lire les fichiers de données\n",
    "2 - identifier les variables continues et transformer leurs modalités en double.\n",
    "3 - joindre les differentes sources de données en se basant sur les données du périmètre (tous les individus du périmèetre devront apparaitre dans la jointure avec des valeurs NULL si nécessaire pour les colonnes en provenance d'autres sources).\n"
   ]
  },
  {
   "cell_type": "markdown",
   "metadata": {},
   "source": [
    "1 - joindre les dataframe sur la clé ID_CLIENT en concervant tous les clients du périmètre.\n",
    "2 - compter le nombre de ID_CLIENT et vérifier qu'il correspond aux nombre d'ID_CLIENT dans la variable perimètre.\n",
    "3 - Caster les variables continues en double et sauvergarder alors le df obtenu dans le repertoire data sur le cluster.\n",
    "4 - Pour les variables catégorielles, créer une nouvelle variable qui prend la modalité de la variable courante si elle existe et \"NA\" sinon.\n",
    "5- Verifier la cohérence des variables continue. Par exemple pour une variable comme age mettre à -1 tous les ages <0 ou>120ans"
   ]
  },
  {
   "cell_type": "markdown",
   "metadata": {},
   "source": [
    "- #### Reading of our data files"
   ]
  },
  {
   "cell_type": "code",
   "execution_count": 2,
   "metadata": {},
   "outputs": [],
   "source": [
    "perimetre = spark_session.read.csv(\"E:/MASTER2 DS-BD/SPARK/data_clients/sample_perimetre.csv\", header=True)\n",
    "histo_client_raw = spark_session.read.csv(\"E:/MASTER2 DS-BD/SPARK/data_clients/sample_histo_client.csv\", header=True)\n",
    "histo_train_raw = spark_session.read.csv(\"E:/MASTER2 DS-BD/SPARK/data_clients/sample_histo_train.csv\", header=True)\n",
    "histo_lowcost_raw = spark_session.read.csv(\"E:/MASTER2 DS-BD/SPARK/data_clients/sample_histo_lowcost.csv\", header=True)\n",
    "visites_raw = spark_session.read.csv(\"E:/MASTER2 DS-BD/SPARK/data_clients/sample_visites.csv\", header=True)"
   ]
  },
  {
   "cell_type": "markdown",
   "metadata": {},
   "source": [
    "- #### writing a function to cast continuous features in double "
   ]
  },
  {
   "cell_type": "code",
   "execution_count": 3,
   "metadata": {
    "scrolled": false
   },
   "outputs": [],
   "source": [
    "##(\"anciennete\", \"recence_cmd\", \"AGE\", etc..) in float\n",
    "\n",
    "client_cols_to_keep = [\"ID_CLIENT\", 'LBL_STATUT_CLT','LBL_GEO_AIR',\n",
    "            'LBL_SEG_COMPORTEMENTAL','LBL_GEO_TRAIN','LBL_GRP_SEGMENT_NL',\n",
    "            'LBL_SEGMENT_ANTICIPATION','FLG_CMD_CARTE_1225']\n",
    "\n",
    "def cast_columns_of_df(df, cols_to_cast, col_to_keep, cast_type='double'):\n",
    "    \"\"\"cast continuous columns into double since all columns are \"\"\"\n",
    "    return df.select(col_to_keep + [(df[feature].cast(cast_type))\n",
    "                    for feature in cols_to_cast if 'ID_CLIENT' not in feature]) "
   ]
  },
  {
   "cell_type": "markdown",
   "metadata": {},
   "source": [
    "- #### Using of our function to cast contnuous features in double"
   ]
  },
  {
   "cell_type": "code",
   "execution_count": 4,
   "metadata": {},
   "outputs": [],
   "source": [
    "histo_train = cast_columns_of_df(histo_train_raw, histo_train_raw.columns,[\"ID_CLIENT\"], cast_type='double')\n",
    "\n",
    "histo_lowcost = cast_columns_of_df(histo_lowcost_raw, histo_lowcost_raw.columns,[\"ID_CLIENT\"], cast_type='double')\n",
    "\n",
    "visites = cast_columns_of_df(visites_raw, visites_raw.columns,[\"ID_CLIENT\"], cast_type='double')\n",
    "\n",
    "histo_client = cast_columns_of_df(histo_client_raw,[\"recence_cmd\"],client_cols_to_keep, cast_type='double')\n",
    "keep_convert_val = histo_client[\"ID_CLIENT\",\"recence_cmd\"]\n",
    "histo_client = cast_columns_of_df(histo_client_raw,[\"anciennete\", \"AGE\"],client_cols_to_keep, cast_type='int')\n",
    "histo_client = histo_client.join(keep_convert_val, on=['ID_CLIENT'], how='inner')"
   ]
  },
  {
   "cell_type": "markdown",
   "metadata": {},
   "source": [
    "- #### function to count number of each type of feature (int,double,string,ect...)"
   ]
  },
  {
   "cell_type": "code",
   "execution_count": 5,
   "metadata": {},
   "outputs": [],
   "source": [
    "def distinct_specific_types_counter(df):\n",
    "    dico={}\n",
    "    for i in df.dtypes:\n",
    "        if i[1] not in dico.keys():\n",
    "            dico[i[1]]=1\n",
    "        else:\n",
    "            dico[i[1]]+=1 \n",
    "    return dico"
   ]
  },
  {
   "cell_type": "markdown",
   "metadata": {},
   "source": [
    "        - testing of our function"
   ]
  },
  {
   "cell_type": "code",
   "execution_count": 6,
   "metadata": {},
   "outputs": [
    {
     "data": {
      "text/plain": [
       "{'string': 8, 'int': 2, 'double': 1}"
      ]
     },
     "execution_count": 6,
     "metadata": {},
     "output_type": "execute_result"
    }
   ],
   "source": [
    "distinct_specific_types_counter(histo_client)"
   ]
  },
  {
   "cell_type": "markdown",
   "metadata": {},
   "source": [
    "- #### function to count number of categorical and continuous features"
   ]
  },
  {
   "cell_type": "code",
   "execution_count": 7,
   "metadata": {},
   "outputs": [],
   "source": [
    "def distinct_types_counter(df):\n",
    "    dico={}\n",
    "    for i in df.dtypes:\n",
    "        if i[1] == 'string':\n",
    "            if 'Categorical' not in dico.keys():\n",
    "                dico['Categorical']= 1\n",
    "            else:\n",
    "                dico['Categorical']+=1\n",
    "        else:\n",
    "            if 'Continuous' not in dico.keys():\n",
    "                dico['Continuous']= 1\n",
    "            else:\n",
    "                dico['Continuous']+=1 \n",
    "    return dico"
   ]
  },
  {
   "cell_type": "markdown",
   "metadata": {},
   "source": [
    "        - testing of our function on dataframe histo_clent"
   ]
  },
  {
   "cell_type": "code",
   "execution_count": 8,
   "metadata": {},
   "outputs": [
    {
     "data": {
      "text/plain": [
       "{'Categorical': 8, 'Continuous': 3}"
      ]
     },
     "execution_count": 8,
     "metadata": {},
     "output_type": "execute_result"
    }
   ],
   "source": [
    "distinct_types_counter(histo_client)"
   ]
  },
  {
   "cell_type": "markdown",
   "metadata": {},
   "source": [
    "- #### function to display categoricals and continuous features"
   ]
  },
  {
   "cell_type": "code",
   "execution_count": 9,
   "metadata": {},
   "outputs": [],
   "source": [
    "def variables_by_types(df):\n",
    "    categorical = []\n",
    "    continuous = []\n",
    "    for i in df.dtypes:\n",
    "        if i[1]!='string':\n",
    "            continuous.append(i[0])\n",
    "        else:\n",
    "            categorical.append(i[0])\n",
    "            \n",
    "    return categorical,continuous"
   ]
  },
  {
   "cell_type": "markdown",
   "metadata": {},
   "source": [
    "    - testing of our function on dataframe histo_clent"
   ]
  },
  {
   "cell_type": "code",
   "execution_count": 10,
   "metadata": {},
   "outputs": [
    {
     "name": "stdout",
     "output_type": "stream",
     "text": [
      "categorical features :['ID_CLIENT', 'LBL_STATUT_CLT', 'LBL_GEO_AIR', 'LBL_SEG_COMPORTEMENTAL', 'LBL_GEO_TRAIN', 'LBL_GRP_SEGMENT_NL', 'LBL_SEGMENT_ANTICIPATION', 'FLG_CMD_CARTE_1225']\n",
      "\n",
      "continuous features : ['anciennete', 'AGE', 'recence_cmd']\n"
     ]
    }
   ],
   "source": [
    "print(\"categorical features :{}\\n\\ncontinuous features : {}\".format(variables_by_types(histo_client)[0]\n",
    "                                                                    ,variables_by_types(histo_client)[1]))"
   ]
  },
  {
   "cell_type": "markdown",
   "metadata": {
    "scrolled": false
   },
   "source": [
    "faire une jointure entre les informations des différentes tables.\n",
    "NB: on conservera tous les clients de la table perimetre.\n",
    "    En effet, ce sont les cleints qu'on souhaite scorer"
   ]
  },
  {
   "cell_type": "markdown",
   "metadata": {},
   "source": [
    "- #### join the differents tables by te feature ID_CLEINT"
   ]
  },
  {
   "cell_type": "code",
   "execution_count": 11,
   "metadata": {},
   "outputs": [],
   "source": [
    "df = perimetre\\\n",
    ".join(histo_client, on = ['ID_CLIENT'], how='left_outer')\\\n",
    ".join(histo_lowcost, on=['ID_CLIENT'], how='left_outer')\\\n",
    ".join(histo_train, on=['ID_CLIENT'], how='left_outer')\\\n",
    ".join(visites, on=['ID_CLIENT'], how='left_outer') \n",
    "\n",
    "###################### on fait le drop .drop(visites.ID_CLIENT) si on utilise la clause == pour la jointure"
   ]
  },
  {
   "cell_type": "markdown",
   "metadata": {},
   "source": [
    "- #### Verify that the number of ID_CLIENT in dataframe perimetre is the same in our joined dataframe df"
   ]
  },
  {
   "cell_type": "code",
   "execution_count": 12,
   "metadata": {},
   "outputs": [
    {
     "data": {
      "text/plain": [
       "1084217"
      ]
     },
     "execution_count": 12,
     "metadata": {},
     "output_type": "execute_result"
    }
   ],
   "source": [
    "perimetre.select([\"ID_CLIENT\"]).count()"
   ]
  },
  {
   "cell_type": "code",
   "execution_count": 13,
   "metadata": {},
   "outputs": [
    {
     "data": {
      "text/plain": [
       "1084217"
      ]
     },
     "execution_count": 13,
     "metadata": {},
     "output_type": "execute_result"
    }
   ],
   "source": [
    "df.select([\"ID_CLIENT\"]).count()"
   ]
  },
  {
   "cell_type": "markdown",
   "metadata": {},
   "source": [
    "- #### display df dataframe structure"
   ]
  },
  {
   "cell_type": "code",
   "execution_count": 14,
   "metadata": {},
   "outputs": [
    {
     "name": "stdout",
     "output_type": "stream",
     "text": [
      "root\n",
      " |-- ID_CLIENT: string (nullable = true)\n",
      " |-- LBL_STATUT_CLT: string (nullable = true)\n",
      " |-- LBL_GEO_AIR: string (nullable = true)\n",
      " |-- LBL_SEG_COMPORTEMENTAL: string (nullable = true)\n",
      " |-- LBL_GEO_TRAIN: string (nullable = true)\n",
      " |-- LBL_GRP_SEGMENT_NL: string (nullable = true)\n",
      " |-- LBL_SEGMENT_ANTICIPATION: string (nullable = true)\n",
      " |-- FLG_CMD_CARTE_1225: string (nullable = true)\n",
      " |-- anciennete: integer (nullable = true)\n",
      " |-- AGE: integer (nullable = true)\n",
      " |-- recence_cmd: double (nullable = true)\n",
      " |-- flg_cmd_lowcost: double (nullable = true)\n",
      " |-- flg_track_nl_lowcost: double (nullable = true)\n",
      " |-- flg_track_nl: double (nullable = true)\n",
      " |-- nb_od: double (nullable = true)\n",
      " |-- mean_nb_passagers: double (nullable = true)\n",
      " |-- mean_duree_voyage: double (nullable = true)\n",
      " |-- mean_mt_voyage: double (nullable = true)\n",
      " |-- mean_tarif_loisir: double (nullable = true)\n",
      " |-- mean_classe_1: double (nullable = true)\n",
      " |-- mean_pointe: double (nullable = true)\n",
      " |-- mean_depart_we: double (nullable = true)\n",
      " |-- days_since_last_visit: double (nullable = true)\n",
      " |-- tx_conversion: double (nullable = true)\n",
      "\n"
     ]
    }
   ],
   "source": [
    "df.printSchema()"
   ]
  },
  {
   "cell_type": "markdown",
   "metadata": {},
   "source": [
    "- #### display number of rows and columns of the dataframe df"
   ]
  },
  {
   "cell_type": "code",
   "execution_count": 15,
   "metadata": {},
   "outputs": [
    {
     "data": {
      "text/plain": [
       "(1084217, 24)"
      ]
     },
     "execution_count": 15,
     "metadata": {},
     "output_type": "execute_result"
    }
   ],
   "source": [
    "df.count(),len(df.columns) # or df.toPandas().shape"
   ]
  },
  {
   "cell_type": "markdown",
   "metadata": {},
   "source": [
    "- #### using of our function (variables_by_types) to display continuous variables of df"
   ]
  },
  {
   "cell_type": "code",
   "execution_count": 16,
   "metadata": {},
   "outputs": [
    {
     "data": {
      "text/plain": [
       "['anciennete',\n",
       " 'AGE',\n",
       " 'recence_cmd',\n",
       " 'flg_cmd_lowcost',\n",
       " 'flg_track_nl_lowcost',\n",
       " 'flg_track_nl',\n",
       " 'nb_od',\n",
       " 'mean_nb_passagers',\n",
       " 'mean_duree_voyage',\n",
       " 'mean_mt_voyage',\n",
       " 'mean_tarif_loisir',\n",
       " 'mean_classe_1',\n",
       " 'mean_pointe',\n",
       " 'mean_depart_we',\n",
       " 'days_since_last_visit',\n",
       " 'tx_conversion']"
      ]
     },
     "execution_count": 16,
     "metadata": {},
     "output_type": "execute_result"
    }
   ],
   "source": [
    "variables_by_types(df)[1]"
   ]
  },
  {
   "cell_type": "markdown",
   "metadata": {},
   "source": [
    "- #### using of our function (variables_by_types) to display categoricals variables"
   ]
  },
  {
   "cell_type": "code",
   "execution_count": 17,
   "metadata": {},
   "outputs": [
    {
     "data": {
      "text/plain": [
       "['ID_CLIENT',\n",
       " 'LBL_STATUT_CLT',\n",
       " 'LBL_GEO_AIR',\n",
       " 'LBL_SEG_COMPORTEMENTAL',\n",
       " 'LBL_GEO_TRAIN',\n",
       " 'LBL_GRP_SEGMENT_NL',\n",
       " 'LBL_SEGMENT_ANTICIPATION',\n",
       " 'FLG_CMD_CARTE_1225']"
      ]
     },
     "execution_count": 17,
     "metadata": {},
     "output_type": "execute_result"
    }
   ],
   "source": [
    "variables_by_types(df)[0]"
   ]
  },
  {
   "cell_type": "markdown",
   "metadata": {},
   "source": [
    "- #### display modality of our target in prediction"
   ]
  },
  {
   "cell_type": "code",
   "execution_count": 18,
   "metadata": {},
   "outputs": [
    {
     "name": "stdout",
     "output_type": "stream",
     "text": [
      "+---------------+------+\n",
      "|flg_cmd_lowcost| count|\n",
      "+---------------+------+\n",
      "|           null|979911|\n",
      "|            1.0|104306|\n",
      "+---------------+------+\n",
      "\n"
     ]
    }
   ],
   "source": [
    "df.groupBy([\"flg_cmd_lowcost\"]).count().show()"
   ]
  },
  {
   "cell_type": "markdown",
   "metadata": {},
   "source": [
    "#### Our prediction will be on \"flg_cmd_lowcost\" so because of logistical regresssion we must to change it as categorical variable"
   ]
  },
  {
   "cell_type": "code",
   "execution_count": 19,
   "metadata": {},
   "outputs": [
    {
     "data": {
      "text/plain": [
       "['anciennete',\n",
       " 'AGE',\n",
       " 'recence_cmd',\n",
       " 'flg_track_nl_lowcost',\n",
       " 'flg_track_nl',\n",
       " 'nb_od',\n",
       " 'mean_nb_passagers',\n",
       " 'mean_duree_voyage',\n",
       " 'mean_mt_voyage',\n",
       " 'mean_tarif_loisir',\n",
       " 'mean_classe_1',\n",
       " 'mean_pointe',\n",
       " 'mean_depart_we',\n",
       " 'days_since_last_visit',\n",
       " 'tx_conversion']"
      ]
     },
     "execution_count": 19,
     "metadata": {},
     "output_type": "execute_result"
    }
   ],
   "source": [
    "#continuous variables\n",
    "continuous_columns = variables_by_types(df)[1]\n",
    "\n",
    "#removing from continuous variables list\n",
    "continuous_columns.remove(\"flg_cmd_lowcost\")\n",
    "\n",
    "#display\n",
    "continuous_columns"
   ]
  },
  {
   "cell_type": "code",
   "execution_count": 20,
   "metadata": {},
   "outputs": [
    {
     "data": {
      "text/plain": [
       "['ID_CLIENT',\n",
       " 'LBL_STATUT_CLT',\n",
       " 'LBL_GEO_AIR',\n",
       " 'LBL_SEG_COMPORTEMENTAL',\n",
       " 'LBL_GEO_TRAIN',\n",
       " 'LBL_GRP_SEGMENT_NL',\n",
       " 'LBL_SEGMENT_ANTICIPATION',\n",
       " 'FLG_CMD_CARTE_1225',\n",
       " 'flg_cmd_lowcost']"
      ]
     },
     "execution_count": 20,
     "metadata": {},
     "output_type": "execute_result"
    }
   ],
   "source": [
    "#categoricals variables\n",
    "categorical_columns = variables_by_types(df)[0]\n",
    "\n",
    "#removing from categoricals variables list\n",
    "categorical_columns.append(\"flg_cmd_lowcost\")\n",
    "\n",
    "#display\n",
    "categorical_columns"
   ]
  },
  {
   "cell_type": "markdown",
   "metadata": {},
   "source": [
    "- #### writing a function which return features with missing values"
   ]
  },
  {
   "cell_type": "code",
   "execution_count": 21,
   "metadata": {},
   "outputs": [],
   "source": [
    "def get_feutures_with_missing_values(df):\n",
    "    missing_list=[]\n",
    "    for i in df.columns:\n",
    "        if df.filter(df[i].isNull()).count()!=0: # or df.filter(\"flg_cmd_lowcost is NULL\").count()!=0\n",
    "            missing_list.append(i)\n",
    "    return missing_list"
   ]
  },
  {
   "cell_type": "markdown",
   "metadata": {},
   "source": [
    "- #### Display our dataframe columns which contains missing values"
   ]
  },
  {
   "cell_type": "code",
   "execution_count": 22,
   "metadata": {},
   "outputs": [
    {
     "data": {
      "text/plain": [
       "['LBL_STATUT_CLT',\n",
       " 'LBL_GEO_AIR',\n",
       " 'LBL_SEG_COMPORTEMENTAL',\n",
       " 'LBL_GEO_TRAIN',\n",
       " 'LBL_GRP_SEGMENT_NL',\n",
       " 'LBL_SEGMENT_ANTICIPATION',\n",
       " 'FLG_CMD_CARTE_1225',\n",
       " 'anciennete',\n",
       " 'AGE',\n",
       " 'recence_cmd',\n",
       " 'flg_cmd_lowcost',\n",
       " 'flg_track_nl_lowcost',\n",
       " 'flg_track_nl',\n",
       " 'nb_od',\n",
       " 'mean_nb_passagers',\n",
       " 'mean_duree_voyage',\n",
       " 'mean_mt_voyage',\n",
       " 'mean_tarif_loisir',\n",
       " 'mean_classe_1',\n",
       " 'mean_pointe',\n",
       " 'mean_depart_we',\n",
       " 'days_since_last_visit',\n",
       " 'tx_conversion']"
      ]
     },
     "execution_count": 22,
     "metadata": {},
     "output_type": "execute_result"
    }
   ],
   "source": [
    "get_feutures_with_missing_values(df)"
   ]
  },
  {
   "cell_type": "markdown",
   "metadata": {},
   "source": [
    "#### replace missing values of categorical features by -1 and le mean of those are continuous"
   ]
  },
  {
   "cell_type": "markdown",
   "metadata": {},
   "source": [
    "- #### function for Replacing missing values in our dataframe"
   ]
  },
  {
   "cell_type": "code",
   "execution_count": 23,
   "metadata": {},
   "outputs": [],
   "source": [
    "def replace_missing_values(df,continuous_columns,categorical_columns):\n",
    "    dico = {feature:df.select(f.mean(df[feature])).collect()[0][0] for feature in continuous_columns}\n",
    "    return df.select([f.when(df[feature].isNotNull(),df[feature])\\\n",
    "                .otherwise('-1').alias(feature) for feature in categorical_columns]\\\n",
    "               +[f.when(df[feature].isNotNull(),df[feature])\\\n",
    "                .otherwise(dico[feature]).alias(feature) for feature in continuous_columns])  "
   ]
  },
  {
   "cell_type": "markdown",
   "metadata": {},
   "source": [
    "- #### replacing missing values using replace_missing_values function"
   ]
  },
  {
   "cell_type": "code",
   "execution_count": 25,
   "metadata": {},
   "outputs": [
    {
     "data": {
      "text/html": [
       "<div>\n",
       "<style scoped>\n",
       "    .dataframe tbody tr th:only-of-type {\n",
       "        vertical-align: middle;\n",
       "    }\n",
       "\n",
       "    .dataframe tbody tr th {\n",
       "        vertical-align: top;\n",
       "    }\n",
       "\n",
       "    .dataframe thead th {\n",
       "        text-align: right;\n",
       "    }\n",
       "</style>\n",
       "<table border=\"1\" class=\"dataframe\">\n",
       "  <thead>\n",
       "    <tr style=\"text-align: right;\">\n",
       "      <th></th>\n",
       "      <th>ID_CLIENT</th>\n",
       "      <th>LBL_STATUT_CLT</th>\n",
       "      <th>LBL_GEO_AIR</th>\n",
       "      <th>LBL_SEG_COMPORTEMENTAL</th>\n",
       "      <th>LBL_GEO_TRAIN</th>\n",
       "      <th>LBL_GRP_SEGMENT_NL</th>\n",
       "      <th>LBL_SEGMENT_ANTICIPATION</th>\n",
       "      <th>FLG_CMD_CARTE_1225</th>\n",
       "      <th>flg_cmd_lowcost</th>\n",
       "      <th>anciennete</th>\n",
       "      <th>...</th>\n",
       "      <th>nb_od</th>\n",
       "      <th>mean_nb_passagers</th>\n",
       "      <th>mean_duree_voyage</th>\n",
       "      <th>mean_mt_voyage</th>\n",
       "      <th>mean_tarif_loisir</th>\n",
       "      <th>mean_classe_1</th>\n",
       "      <th>mean_pointe</th>\n",
       "      <th>mean_depart_we</th>\n",
       "      <th>days_since_last_visit</th>\n",
       "      <th>tx_conversion</th>\n",
       "    </tr>\n",
       "  </thead>\n",
       "  <tbody>\n",
       "    <tr>\n",
       "      <th>0</th>\n",
       "      <td>000843db32fbaecfbb047ca0bb04b1f9f4d9425a</td>\n",
       "      <td>Grand</td>\n",
       "      <td>Aéroports de Paris Orly</td>\n",
       "      <td>Chasseurs Bons Plans</td>\n",
       "      <td>Paris</td>\n",
       "      <td>Spectateur</td>\n",
       "      <td>Mixte</td>\n",
       "      <td>0</td>\n",
       "      <td>-1</td>\n",
       "      <td>1550.0</td>\n",
       "      <td>...</td>\n",
       "      <td>1.0</td>\n",
       "      <td>1.0</td>\n",
       "      <td>274.666667</td>\n",
       "      <td>58.666667</td>\n",
       "      <td>0.0</td>\n",
       "      <td>0.0</td>\n",
       "      <td>0.00</td>\n",
       "      <td>0.00</td>\n",
       "      <td>8.0</td>\n",
       "      <td>0.111111</td>\n",
       "    </tr>\n",
       "    <tr>\n",
       "      <th>1</th>\n",
       "      <td>001338752ea32d9de129c8f8bdf3e2224cf0bd71</td>\n",
       "      <td>Grand</td>\n",
       "      <td>Aéroport de Marseille Provence  (MRS)</td>\n",
       "      <td>Comportement Pro</td>\n",
       "      <td>Marseille</td>\n",
       "      <td>Spectateur</td>\n",
       "      <td>Anticipateur</td>\n",
       "      <td>0</td>\n",
       "      <td>-1</td>\n",
       "      <td>1667.0</td>\n",
       "      <td>...</td>\n",
       "      <td>1.0</td>\n",
       "      <td>1.0</td>\n",
       "      <td>232.000000</td>\n",
       "      <td>128.200000</td>\n",
       "      <td>1.0</td>\n",
       "      <td>1.0</td>\n",
       "      <td>0.00</td>\n",
       "      <td>0.00</td>\n",
       "      <td>3.0</td>\n",
       "      <td>0.130435</td>\n",
       "    </tr>\n",
       "    <tr>\n",
       "      <th>2</th>\n",
       "      <td>003fb9dca8de374386d0fa97b570950583111931</td>\n",
       "      <td>Moyen moins</td>\n",
       "      <td>Aéroport de Lyon - Saint Exupéry</td>\n",
       "      <td>Rythmes scolaires</td>\n",
       "      <td>Lyon</td>\n",
       "      <td>Spectateur</td>\n",
       "      <td>Peu Anticipateur</td>\n",
       "      <td>1</td>\n",
       "      <td>1.0</td>\n",
       "      <td>395.0</td>\n",
       "      <td>...</td>\n",
       "      <td>3.0</td>\n",
       "      <td>1.5</td>\n",
       "      <td>248.250000</td>\n",
       "      <td>46.475000</td>\n",
       "      <td>0.5</td>\n",
       "      <td>0.0</td>\n",
       "      <td>0.25</td>\n",
       "      <td>0.25</td>\n",
       "      <td>15.0</td>\n",
       "      <td>1.000000</td>\n",
       "    </tr>\n",
       "    <tr>\n",
       "      <th>3</th>\n",
       "      <td>004efa6652e570ef68944b780738e159fbf2aeb5</td>\n",
       "      <td>Moyen moins</td>\n",
       "      <td>Aéroport de Lyon - Saint Exupéry</td>\n",
       "      <td>Sans contraintes</td>\n",
       "      <td>Lyon</td>\n",
       "      <td>Spectateur</td>\n",
       "      <td>Tres Anticipateur</td>\n",
       "      <td>0</td>\n",
       "      <td>-1</td>\n",
       "      <td>2188.0</td>\n",
       "      <td>...</td>\n",
       "      <td>1.0</td>\n",
       "      <td>1.0</td>\n",
       "      <td>117.000000</td>\n",
       "      <td>35.500000</td>\n",
       "      <td>1.0</td>\n",
       "      <td>0.5</td>\n",
       "      <td>0.00</td>\n",
       "      <td>0.50</td>\n",
       "      <td>17.0</td>\n",
       "      <td>0.125000</td>\n",
       "    </tr>\n",
       "    <tr>\n",
       "      <th>4</th>\n",
       "      <td>005dd0b718a8f4598ae3044e60f9c20222eb3a35</td>\n",
       "      <td>Petit</td>\n",
       "      <td>Aéroport de Strasbourg</td>\n",
       "      <td>Sans contraintes</td>\n",
       "      <td>Metz</td>\n",
       "      <td>Endormi</td>\n",
       "      <td>Non Anticipateur</td>\n",
       "      <td>0</td>\n",
       "      <td>-1</td>\n",
       "      <td>3005.0</td>\n",
       "      <td>...</td>\n",
       "      <td>1.0</td>\n",
       "      <td>1.0</td>\n",
       "      <td>84.000000</td>\n",
       "      <td>65.500000</td>\n",
       "      <td>1.0</td>\n",
       "      <td>0.0</td>\n",
       "      <td>0.50</td>\n",
       "      <td>0.50</td>\n",
       "      <td>15.0</td>\n",
       "      <td>0.333333</td>\n",
       "    </tr>\n",
       "  </tbody>\n",
       "</table>\n",
       "<p>5 rows × 24 columns</p>\n",
       "</div>"
      ],
      "text/plain": [
       "                                  ID_CLIENT LBL_STATUT_CLT  \\\n",
       "0  000843db32fbaecfbb047ca0bb04b1f9f4d9425a          Grand   \n",
       "1  001338752ea32d9de129c8f8bdf3e2224cf0bd71          Grand   \n",
       "2  003fb9dca8de374386d0fa97b570950583111931    Moyen moins   \n",
       "3  004efa6652e570ef68944b780738e159fbf2aeb5    Moyen moins   \n",
       "4  005dd0b718a8f4598ae3044e60f9c20222eb3a35          Petit   \n",
       "\n",
       "                             LBL_GEO_AIR LBL_SEG_COMPORTEMENTAL LBL_GEO_TRAIN  \\\n",
       "0                Aéroports de Paris Orly   Chasseurs Bons Plans         Paris   \n",
       "1  Aéroport de Marseille Provence  (MRS)       Comportement Pro     Marseille   \n",
       "2       Aéroport de Lyon - Saint Exupéry      Rythmes scolaires          Lyon   \n",
       "3       Aéroport de Lyon - Saint Exupéry       Sans contraintes          Lyon   \n",
       "4                 Aéroport de Strasbourg       Sans contraintes          Metz   \n",
       "\n",
       "  LBL_GRP_SEGMENT_NL LBL_SEGMENT_ANTICIPATION FLG_CMD_CARTE_1225  \\\n",
       "0         Spectateur                    Mixte                  0   \n",
       "1         Spectateur             Anticipateur                  0   \n",
       "2         Spectateur         Peu Anticipateur                  1   \n",
       "3         Spectateur        Tres Anticipateur                  0   \n",
       "4            Endormi         Non Anticipateur                  0   \n",
       "\n",
       "  flg_cmd_lowcost  anciennete  ...  nb_od  mean_nb_passagers  \\\n",
       "0              -1      1550.0  ...    1.0                1.0   \n",
       "1              -1      1667.0  ...    1.0                1.0   \n",
       "2             1.0       395.0  ...    3.0                1.5   \n",
       "3              -1      2188.0  ...    1.0                1.0   \n",
       "4              -1      3005.0  ...    1.0                1.0   \n",
       "\n",
       "   mean_duree_voyage  mean_mt_voyage  mean_tarif_loisir  mean_classe_1  \\\n",
       "0         274.666667       58.666667                0.0            0.0   \n",
       "1         232.000000      128.200000                1.0            1.0   \n",
       "2         248.250000       46.475000                0.5            0.0   \n",
       "3         117.000000       35.500000                1.0            0.5   \n",
       "4          84.000000       65.500000                1.0            0.0   \n",
       "\n",
       "   mean_pointe  mean_depart_we  days_since_last_visit  tx_conversion  \n",
       "0         0.00            0.00                    8.0       0.111111  \n",
       "1         0.00            0.00                    3.0       0.130435  \n",
       "2         0.25            0.25                   15.0       1.000000  \n",
       "3         0.00            0.50                   17.0       0.125000  \n",
       "4         0.50            0.50                   15.0       0.333333  \n",
       "\n",
       "[5 rows x 24 columns]"
      ]
     },
     "execution_count": 25,
     "metadata": {},
     "output_type": "execute_result"
    }
   ],
   "source": [
    "df = replace_missing_values(df,continuous_columns,categorical_columns)\n",
    "df.toPandas().head(5)"
   ]
  },
  {
   "cell_type": "code",
   "execution_count": 26,
   "metadata": {},
   "outputs": [
    {
     "data": {
      "text/plain": [
       "{'Categorical': 9, 'Continuous': 15}"
      ]
     },
     "execution_count": 26,
     "metadata": {},
     "output_type": "execute_result"
    }
   ],
   "source": [
    "#display number of categorical and continuous features \n",
    "distinct_types_counter(df)"
   ]
  },
  {
   "cell_type": "code",
   "execution_count": 27,
   "metadata": {},
   "outputs": [
    {
     "name": "stdout",
     "output_type": "stream",
     "text": [
      "+--------------------+------+\n",
      "|      LBL_STATUT_CLT| count|\n",
      "+--------------------+------+\n",
      "|         Moyen moins|185283|\n",
      "|                  -1| 78998|\n",
      "|Non present dans ...|  1857|\n",
      "|    Nouveau prospect|  4545|\n",
      "|            Prospect|  2682|\n",
      "|          Tres petit| 84052|\n",
      "|               Petit|113465|\n",
      "|             Inactif| 66111|\n",
      "|       Nouveau actif|146469|\n",
      "|               Grand|171039|\n",
      "|          Tres grand|139911|\n",
      "|          Moyen plus| 89805|\n",
      "+--------------------+------+\n",
      "\n"
     ]
    }
   ],
   "source": [
    "#display distinct modalities of feature \"LBL_STATUT_CLT\"\n",
    "df.groupBy([\"LBL_STATUT_CLT\"]).count().show()"
   ]
  },
  {
   "cell_type": "code",
   "execution_count": 28,
   "metadata": {},
   "outputs": [],
   "source": [
    "def input_df(df):\n",
    "    ds = df.select('ID_CLIENT',\n",
    "    f.when(df.LBL_GEO_TRAIN.isin(['Toulouse', 'Lille', 'Dijon',\n",
    "                                  'Lyon', 'Marseille', 'Paris',\n",
    "                                  'Nice', 'Limoges','Rouen','Rennes',\n",
    "                                  'Montpellier', 'Bordeaux', 'Metz',\n",
    "                                  'Strasbourg']), df.LBL_GEO_TRAIN)\\\n",
    "               .otherwise('na').alias('geo_train'),\n",
    "    f.when(df.LBL_GEO_AIR.isin(['Aéroports de Paris Orly',\n",
    "                                'Aéroport de Bâle-Mulhouse / Bassel',\n",
    "                                'Aéroport Lille Lesquin', 'Aéroport de Rennes',\n",
    "                                'Aéroport de Nantes Atlantique',\n",
    "                                'Aéroport de Marseille Provence  (MRS)', \n",
    "                                'Aéroport de Bordeaux Mérignac',\n",
    "                                'Aéroports de Paris Roissy-Charles-de Gaulle', \n",
    "                                \"Aéroport de Nice Côte d'Azur\",\n",
    "                                'Aéroport de Strasbourg',\n",
    "                                'Aéroport de Lyon - Saint Exupéry', \n",
    "                                'Aéroport de Toulouse Blagnac']), df.LBL_GEO_AIR)\\\n",
    "               .otherwise('na').alias('geo_air'),\n",
    "    f.when(df.FLG_CMD_CARTE_1225 == '1', '1')\\\n",
    "                   .otherwise('0').alias('cc_jeunes'),\n",
    "    f.when(df.LBL_STATUT_CLT.isin(['Tres grand', 'Nouveau actif',\n",
    "                                   'Moyen moins', ' Prospect', ' Petit',\n",
    "                                   'Inactif', 'Tres petit',\n",
    "                                   'Nouveau prospect', 'Moyen plus',\n",
    "                                   'Grand']), df.LBL_STATUT_CLT)\\\n",
    "                   .otherwise('na').alias('segt_rfm'),\n",
    "    f.when(df.LBL_SEGMENT_ANTICIPATION.isin(['Peu Anticipateur', 'Tres Anticipateur',\n",
    "                                             'Anticipateur', 'Mixte', 'Non Anticipateur',\n",
    "                                             'Non Defini']), df.LBL_SEGMENT_ANTICIPATION)\\\n",
    "                   .otherwise('na').alias('segt_anticipation'),\n",
    "    f.when(df.LBL_SEG_COMPORTEMENTAL.isin(['Mono-commande',\n",
    "                                           'Comportement Pro',\n",
    "                                           'Exclusifs Agence', \n",
    "                                           'Anticipateurs Methodiques',\n",
    "                                           'Chasseurs Bons Plans', \n",
    "                                           'Rythmes scolaires', 'Nouveaux',\n",
    "                                           'Sans contraintes']),\n",
    "           df.LBL_SEG_COMPORTEMENTAL).otherwise('na').alias('segt_comportemental'), \n",
    "    f.when(df.LBL_GRP_SEGMENT_NL.isin(['Endormi', 'Spectateur', 'Acteur',\n",
    "                                       'Eteint', 'Non defini']),\n",
    "           df.LBL_GRP_SEGMENT_NL).otherwise('na').alias('segt_nl'),\n",
    "    f.when(((df.AGE > 0) & (df.AGE < 100)), df.AGE)\\\n",
    "                   .otherwise(-1).alias('age'),\n",
    "    f.when(df.recence_cmd >= 0, df.recence_cmd)\\\n",
    "                   .otherwise(-1).alias('recence_cmd'),\n",
    "    f.when(((df.mean_duree_voyage > 0) & (df.mean_duree_voyage < 750)),\n",
    "           df.mean_duree_voyage).otherwise(-1).alias('mean_duree_voyage'),\n",
    "    f.when(df.days_since_last_visit >= 0, df.days_since_last_visit)\\\n",
    "                   .otherwise(-1).alias('recence_visite'),\n",
    "    f.when(df.mean_mt_voyage > 0, df.mean_mt_voyage)\\\n",
    "                   .otherwise(-1).alias('mean_mt_voyage'),\n",
    "    f.when(df.anciennete >= 0, df.anciennete)\\\n",
    "                   .otherwise(-1).alias('anciennete'),\n",
    "    f.when(df.nb_od > 0, df.nb_od)\\\n",
    "                   .otherwise(-1).alias('nb_od'),\n",
    "    f.when(df.mean_nb_passagers > 0, df.mean_nb_passagers)\\\n",
    "                   .otherwise(-1).alias('mean_nb_passagers'),\n",
    "    f.when(df.mean_tarif_loisir >= 0, df.mean_tarif_loisir)\\\n",
    "                   .otherwise(-1).alias('mean_tarif_loisir'),\n",
    "    f.when(df.mean_classe_1 >= 0, df.mean_classe_1)\\\n",
    "                   .otherwise(-1).alias('mean_classe_1'),\n",
    "    f.when(df.mean_pointe >= 0, df.mean_pointe)\\\n",
    "                   .otherwise(-1).alias('mean_pointe'),\n",
    "    f.when(df.mean_depart_we >= 0, df.mean_depart_we)\\\n",
    "                   .otherwise(-1).alias('mean_depart_we'),\n",
    "    f.when(df.tx_conversion >= 0, df.tx_conversion)\\\n",
    "                   .otherwise(-1).alias('tx_conversion'),\n",
    "    f.when(df.flg_cmd_lowcost == 1, '1')\\\n",
    "                   .otherwise('0').alias('flg_cmd_lowcost'),\n",
    "    f.when(df.flg_track_nl_lowcost == 1, '1')\\\n",
    "                   .otherwise('0').alias('flg_track_nl_lowcost'), \n",
    "    f.when(df.flg_track_nl == 1, '1')\\\n",
    "                   .otherwise('0').alias('flg_track_nl'))\n",
    "    \n",
    "    return ds\n",
    "df = input_df(df)"
   ]
  },
  {
   "cell_type": "markdown",
   "metadata": {},
   "source": [
    "Quelles sont les differentes valeurs de notre label : flg_cmd_lowcost"
   ]
  },
  {
   "cell_type": "code",
   "execution_count": 29,
   "metadata": {},
   "outputs": [
    {
     "name": "stdout",
     "output_type": "stream",
     "text": [
      "+---------------+------+\n",
      "|flg_cmd_lowcost| count|\n",
      "+---------------+------+\n",
      "|              0|979911|\n",
      "|              1|104306|\n",
      "+---------------+------+\n",
      "\n"
     ]
    }
   ],
   "source": [
    "#df1.select([\"flg_cmd_lowcost\"]).distinct().collect()\n",
    "df.groupBy([\"flg_cmd_lowcost\"]).count().show()"
   ]
  },
  {
   "cell_type": "code",
   "execution_count": 30,
   "metadata": {},
   "outputs": [],
   "source": [
    "from pyspark.ml.feature import StringIndexer, VectorAssembler, VectorIndexer\n",
    "from pyspark.ml.classification import RandomForestClassifier, LogisticRegression"
   ]
  },
  {
   "cell_type": "markdown",
   "metadata": {},
   "source": [
    "##### features engineering et modélisation"
   ]
  },
  {
   "cell_type": "code",
   "execution_count": 31,
   "metadata": {},
   "outputs": [],
   "source": [
    "def preprocessed_df(df, label=\"flg_cmd_lowcostIndex\"):\n",
    "    max_values_to_define_str_cols = 10\n",
    "    id_col = 'ID_CLIENT'\n",
    "    \n",
    "    dty = dict(df.dtypes)\n",
    "    str_cols = [k for k, v in dty.items() if v == 'string']\n",
    "    str_cols.remove(id_col)\n",
    "    \n",
    "    for c in str_cols:\n",
    "        stringIndexer = StringIndexer(inputCol=c, outputCol=c+\"Index\")\n",
    "        model_str = stringIndexer.fit(df)\n",
    "        df = model_str.transform(df).drop(c)\n",
    "\n",
    "    input_cols = df.columns\n",
    "    input_cols.remove(id_col)\n",
    "    input_cols.remove(label)\n",
    "    \n",
    "    assembler = VectorAssembler(inputCols=input_cols,\n",
    "                            outputCol=\"features\")\n",
    "    df = assembler.transform(df)\n",
    "    \n",
    "    featureIndexer = VectorIndexer(inputCol=\"features\", \n",
    "                   outputCol=\"indexedFeatures\", \n",
    "                   maxCategories=max_values_to_define_str_cols).fit(df)\n",
    "    return featureIndexer.transform(df), df\n",
    "\n",
    "\n",
    "data, dff = preprocessed_df(df)"
   ]
  },
  {
   "cell_type": "code",
   "execution_count": 32,
   "metadata": {},
   "outputs": [
    {
     "data": {
      "text/html": [
       "<div>\n",
       "<style scoped>\n",
       "    .dataframe tbody tr th:only-of-type {\n",
       "        vertical-align: middle;\n",
       "    }\n",
       "\n",
       "    .dataframe tbody tr th {\n",
       "        vertical-align: top;\n",
       "    }\n",
       "\n",
       "    .dataframe thead th {\n",
       "        text-align: right;\n",
       "    }\n",
       "</style>\n",
       "<table border=\"1\" class=\"dataframe\">\n",
       "  <thead>\n",
       "    <tr style=\"text-align: right;\">\n",
       "      <th></th>\n",
       "      <th>ID_CLIENT</th>\n",
       "      <th>age</th>\n",
       "      <th>recence_cmd</th>\n",
       "      <th>mean_duree_voyage</th>\n",
       "      <th>recence_visite</th>\n",
       "      <th>mean_mt_voyage</th>\n",
       "      <th>anciennete</th>\n",
       "      <th>nb_od</th>\n",
       "      <th>mean_nb_passagers</th>\n",
       "      <th>mean_tarif_loisir</th>\n",
       "      <th>...</th>\n",
       "      <th>geo_airIndex</th>\n",
       "      <th>cc_jeunesIndex</th>\n",
       "      <th>segt_rfmIndex</th>\n",
       "      <th>segt_anticipationIndex</th>\n",
       "      <th>segt_comportementalIndex</th>\n",
       "      <th>segt_nlIndex</th>\n",
       "      <th>flg_cmd_lowcostIndex</th>\n",
       "      <th>flg_track_nl_lowcostIndex</th>\n",
       "      <th>flg_track_nlIndex</th>\n",
       "      <th>features</th>\n",
       "    </tr>\n",
       "  </thead>\n",
       "  <tbody>\n",
       "    <tr>\n",
       "      <th>0</th>\n",
       "      <td>000843db32fbaecfbb047ca0bb04b1f9f4d9425a</td>\n",
       "      <td>36.772698</td>\n",
       "      <td>36.0</td>\n",
       "      <td>274.666667</td>\n",
       "      <td>8.0</td>\n",
       "      <td>58.666667</td>\n",
       "      <td>1550.0</td>\n",
       "      <td>1.0</td>\n",
       "      <td>1.0</td>\n",
       "      <td>0.0</td>\n",
       "      <td>...</td>\n",
       "      <td>2.0</td>\n",
       "      <td>0.0</td>\n",
       "      <td>2.0</td>\n",
       "      <td>4.0</td>\n",
       "      <td>6.0</td>\n",
       "      <td>1.0</td>\n",
       "      <td>0.0</td>\n",
       "      <td>0.0</td>\n",
       "      <td>0.0</td>\n",
       "      <td>[36.77269796022761, 36.0, 274.6666666666667, 8...</td>\n",
       "    </tr>\n",
       "    <tr>\n",
       "      <th>1</th>\n",
       "      <td>001338752ea32d9de129c8f8bdf3e2224cf0bd71</td>\n",
       "      <td>35.000000</td>\n",
       "      <td>25.0</td>\n",
       "      <td>232.000000</td>\n",
       "      <td>3.0</td>\n",
       "      <td>128.200000</td>\n",
       "      <td>1667.0</td>\n",
       "      <td>1.0</td>\n",
       "      <td>1.0</td>\n",
       "      <td>1.0</td>\n",
       "      <td>...</td>\n",
       "      <td>4.0</td>\n",
       "      <td>0.0</td>\n",
       "      <td>2.0</td>\n",
       "      <td>6.0</td>\n",
       "      <td>5.0</td>\n",
       "      <td>1.0</td>\n",
       "      <td>0.0</td>\n",
       "      <td>0.0</td>\n",
       "      <td>0.0</td>\n",
       "      <td>[35.0, 25.0, 232.0, 3.0, 128.2, 1667.0, 1.0, 1...</td>\n",
       "    </tr>\n",
       "    <tr>\n",
       "      <th>2</th>\n",
       "      <td>003fb9dca8de374386d0fa97b570950583111931</td>\n",
       "      <td>25.000000</td>\n",
       "      <td>15.0</td>\n",
       "      <td>248.250000</td>\n",
       "      <td>15.0</td>\n",
       "      <td>46.475000</td>\n",
       "      <td>395.0</td>\n",
       "      <td>3.0</td>\n",
       "      <td>1.5</td>\n",
       "      <td>0.5</td>\n",
       "      <td>...</td>\n",
       "      <td>3.0</td>\n",
       "      <td>1.0</td>\n",
       "      <td>1.0</td>\n",
       "      <td>0.0</td>\n",
       "      <td>1.0</td>\n",
       "      <td>1.0</td>\n",
       "      <td>1.0</td>\n",
       "      <td>0.0</td>\n",
       "      <td>1.0</td>\n",
       "      <td>[25.0, 15.0, 248.25, 15.0, 46.475, 395.0, 3.0,...</td>\n",
       "    </tr>\n",
       "    <tr>\n",
       "      <th>3</th>\n",
       "      <td>004efa6652e570ef68944b780738e159fbf2aeb5</td>\n",
       "      <td>31.000000</td>\n",
       "      <td>20.0</td>\n",
       "      <td>117.000000</td>\n",
       "      <td>17.0</td>\n",
       "      <td>35.500000</td>\n",
       "      <td>2188.0</td>\n",
       "      <td>1.0</td>\n",
       "      <td>1.0</td>\n",
       "      <td>1.0</td>\n",
       "      <td>...</td>\n",
       "      <td>3.0</td>\n",
       "      <td>0.0</td>\n",
       "      <td>1.0</td>\n",
       "      <td>5.0</td>\n",
       "      <td>0.0</td>\n",
       "      <td>1.0</td>\n",
       "      <td>0.0</td>\n",
       "      <td>0.0</td>\n",
       "      <td>0.0</td>\n",
       "      <td>[31.0, 20.0, 117.0, 17.0, 35.5, 2188.0, 1.0, 1...</td>\n",
       "    </tr>\n",
       "  </tbody>\n",
       "</table>\n",
       "<p>4 rows × 25 columns</p>\n",
       "</div>"
      ],
      "text/plain": [
       "                                  ID_CLIENT        age  recence_cmd  \\\n",
       "0  000843db32fbaecfbb047ca0bb04b1f9f4d9425a  36.772698         36.0   \n",
       "1  001338752ea32d9de129c8f8bdf3e2224cf0bd71  35.000000         25.0   \n",
       "2  003fb9dca8de374386d0fa97b570950583111931  25.000000         15.0   \n",
       "3  004efa6652e570ef68944b780738e159fbf2aeb5  31.000000         20.0   \n",
       "\n",
       "   mean_duree_voyage  recence_visite  mean_mt_voyage  anciennete  nb_od  \\\n",
       "0         274.666667             8.0       58.666667      1550.0    1.0   \n",
       "1         232.000000             3.0      128.200000      1667.0    1.0   \n",
       "2         248.250000            15.0       46.475000       395.0    3.0   \n",
       "3         117.000000            17.0       35.500000      2188.0    1.0   \n",
       "\n",
       "   mean_nb_passagers  mean_tarif_loisir  ...  geo_airIndex  cc_jeunesIndex  \\\n",
       "0                1.0                0.0  ...           2.0             0.0   \n",
       "1                1.0                1.0  ...           4.0             0.0   \n",
       "2                1.5                0.5  ...           3.0             1.0   \n",
       "3                1.0                1.0  ...           3.0             0.0   \n",
       "\n",
       "   segt_rfmIndex  segt_anticipationIndex  segt_comportementalIndex  \\\n",
       "0            2.0                     4.0                       6.0   \n",
       "1            2.0                     6.0                       5.0   \n",
       "2            1.0                     0.0                       1.0   \n",
       "3            1.0                     5.0                       0.0   \n",
       "\n",
       "   segt_nlIndex  flg_cmd_lowcostIndex  flg_track_nl_lowcostIndex  \\\n",
       "0           1.0                   0.0                        0.0   \n",
       "1           1.0                   0.0                        0.0   \n",
       "2           1.0                   1.0                        0.0   \n",
       "3           1.0                   0.0                        0.0   \n",
       "\n",
       "   flg_track_nlIndex                                           features  \n",
       "0                0.0  [36.77269796022761, 36.0, 274.6666666666667, 8...  \n",
       "1                0.0  [35.0, 25.0, 232.0, 3.0, 128.2, 1667.0, 1.0, 1...  \n",
       "2                1.0  [25.0, 15.0, 248.25, 15.0, 46.475, 395.0, 3.0,...  \n",
       "3                0.0  [31.0, 20.0, 117.0, 17.0, 35.5, 2188.0, 1.0, 1...  \n",
       "\n",
       "[4 rows x 25 columns]"
      ]
     },
     "execution_count": 32,
     "metadata": {},
     "output_type": "execute_result"
    }
   ],
   "source": [
    "dff.toPandas().head(4)"
   ]
  },
  {
   "cell_type": "markdown",
   "metadata": {},
   "source": [
    "- #### providing a sample data for our modeling"
   ]
  },
  {
   "cell_type": "code",
   "execution_count": 33,
   "metadata": {},
   "outputs": [],
   "source": [
    "small_DF = data.sample(False, 0.01, seed=0)"
   ]
  },
  {
   "cell_type": "code",
   "execution_count": 34,
   "metadata": {},
   "outputs": [
    {
     "data": {
      "text/plain": [
       "(10954, 26)"
      ]
     },
     "execution_count": 34,
     "metadata": {},
     "output_type": "execute_result"
    }
   ],
   "source": [
    "#display number of rows\n",
    "small_DF.toPandas().shape"
   ]
  },
  {
   "cell_type": "code",
   "execution_count": 35,
   "metadata": {},
   "outputs": [
    {
     "name": "stdout",
     "output_type": "stream",
     "text": [
      "root\n",
      " |-- ID_CLIENT: string (nullable = true)\n",
      " |-- age: double (nullable = true)\n",
      " |-- recence_cmd: double (nullable = true)\n",
      " |-- mean_duree_voyage: double (nullable = true)\n",
      " |-- recence_visite: double (nullable = true)\n",
      " |-- mean_mt_voyage: double (nullable = true)\n",
      " |-- anciennete: double (nullable = true)\n",
      " |-- nb_od: double (nullable = true)\n",
      " |-- mean_nb_passagers: double (nullable = true)\n",
      " |-- mean_tarif_loisir: double (nullable = true)\n",
      " |-- mean_classe_1: double (nullable = true)\n",
      " |-- mean_pointe: double (nullable = true)\n",
      " |-- mean_depart_we: double (nullable = true)\n",
      " |-- tx_conversion: double (nullable = true)\n",
      " |-- geo_trainIndex: double (nullable = false)\n",
      " |-- geo_airIndex: double (nullable = false)\n",
      " |-- cc_jeunesIndex: double (nullable = false)\n",
      " |-- segt_rfmIndex: double (nullable = false)\n",
      " |-- segt_anticipationIndex: double (nullable = false)\n",
      " |-- segt_comportementalIndex: double (nullable = false)\n",
      " |-- segt_nlIndex: double (nullable = false)\n",
      " |-- flg_cmd_lowcostIndex: double (nullable = false)\n",
      " |-- flg_track_nl_lowcostIndex: double (nullable = false)\n",
      " |-- flg_track_nlIndex: double (nullable = false)\n",
      " |-- features: vector (nullable = true)\n",
      " |-- indexedFeatures: vector (nullable = true)\n",
      "\n"
     ]
    }
   ],
   "source": [
    "#describe dataframe\n",
    "small_DF.printSchema()"
   ]
  },
  {
   "cell_type": "code",
   "execution_count": 36,
   "metadata": {},
   "outputs": [
    {
     "name": "stdout",
     "output_type": "stream",
     "text": [
      "+--------------------+-----+\n",
      "|flg_cmd_lowcostIndex|count|\n",
      "+--------------------+-----+\n",
      "|                 0.0| 9949|\n",
      "|                 1.0| 1005|\n",
      "+--------------------+-----+\n",
      "\n"
     ]
    }
   ],
   "source": [
    "#display modalities of the feature \"flg_cmd_lowcostIndex\"\n",
    "small_DF.groupBy('flg_cmd_lowcostIndex').count().show()"
   ]
  },
  {
   "cell_type": "markdown",
   "metadata": {},
   "source": [
    "#### Logistic regression"
   ]
  },
  {
   "cell_type": "code",
   "execution_count": 37,
   "metadata": {},
   "outputs": [],
   "source": [
    "from pyspark.ml import Pipeline\n",
    "from pyspark.ml.classification import DecisionTreeClassifier\n",
    "from pyspark.ml.feature import StringIndexer, VectorIndexer\n",
    "from pyspark.ml.evaluation import MulticlassClassificationEvaluator"
   ]
  },
  {
   "cell_type": "markdown",
   "metadata": {},
   "source": [
    "quelle est le label est renseigne pour la modelisation?"
   ]
  },
  {
   "cell_type": "markdown",
   "metadata": {},
   "source": [
    "modelisation target is : flg_cmd_lowcostIndex"
   ]
  },
  {
   "cell_type": "code",
   "execution_count": 40,
   "metadata": {},
   "outputs": [],
   "source": [
    "# Split the data into training and test sets (30% held out for testing)\n",
    "# Train model.  This also runs the indexers.\n",
    "(trainingData, testData) = small_DF.randomSplit([0.7, 0.3])"
   ]
  },
  {
   "cell_type": "markdown",
   "metadata": {},
   "source": [
    "ecrire une fonction compute_modele , ecrire une fonction manuelle de calcul de score"
   ]
  },
  {
   "cell_type": "code",
   "execution_count": 41,
   "metadata": {},
   "outputs": [],
   "source": [
    "#writing of function \"compute_modele\" to compute our model\n",
    "def compute_modele(df,labelCol,featuresCol,elasticNetParam): \n",
    "    #logistic Regression model\n",
    "    lr = LogisticRegression(labelCol=labelCol, featuresCol=featuresCol,elasticNetParam=elasticNetParam)\n",
    "    #Fit the model\n",
    "    mlr=lr.fit(df)\n",
    "    return mlr"
   ]
  },
  {
   "cell_type": "code",
   "execution_count": 42,
   "metadata": {},
   "outputs": [],
   "source": [
    "#Wrinting of function compute_score for the calculation of the score\n",
    "def compute_score(df,target,predicted_col):\n",
    "    true_lines = df.where(df[target]==df[predicted_col]).count()\n",
    "    all_lines = df.count()\n",
    "    return (true_lines/all_lines)*100"
   ]
  },
  {
   "cell_type": "markdown",
   "metadata": {},
   "source": [
    "Ajuster le modele de regression logistique et calculer les coefficients de notre modele."
   ]
  },
  {
   "cell_type": "code",
   "execution_count": 43,
   "metadata": {},
   "outputs": [],
   "source": [
    "lrModel = compute_modele(trainingData,\"flg_cmd_lowcostIndex\",\"indexedFeatures\",0.8)"
   ]
  },
  {
   "cell_type": "code",
   "execution_count": 44,
   "metadata": {},
   "outputs": [
    {
     "name": "stdout",
     "output_type": "stream",
     "text": [
      "Coefficients: \n",
      "[-0.0018542132322356332,-0.007841146879768994,0.000678827481862758,0.011485613812454944,-0.01659557671624377,4.5194315160495176e-05,0.060237953250661745,0.351046708503066,-0.38697841055488547,-1.6320842447826083,-0.30648851908998176,0.16706768516310444,-0.06374889000741688,-0.09549684676641003,0.10879642291099041,-0.7952494315879289,0.0623748724607247,-0.06857778382683731,-0.05373894919736025,0.015499157051711263,10.572261093572006,17.788066046247874]\n",
      "\n"
     ]
    }
   ],
   "source": [
    "# Print the coefficients and intercept for multinomial logistic regression\n",
    "print(\"Coefficients: \\n\" + str(lrModel.coefficients)+\"\\n\")"
   ]
  },
  {
   "cell_type": "code",
   "execution_count": 48,
   "metadata": {},
   "outputs": [
    {
     "data": {
      "image/png": "[encoded data removed]",
      "text/plain": [
       "<Figure size 432x288 with 1 Axes>"
      ]
     },
     "metadata": {
      "needs_background": "light"
     },
     "output_type": "display_data"
    }
   ],
   "source": [
    "#plotting coefficients\n",
    "import matplotlib.pyplot as plt\n",
    "import numpy as np\n",
    "\n",
    "beta = np.sort(lrModel.coefficients)\n",
    "plt.plot(beta)\n",
    "plt.ylabel(\"beta coefficients\")\n",
    "plt.show()"
   ]
  },
  {
   "cell_type": "code",
   "execution_count": 49,
   "metadata": {},
   "outputs": [
    {
     "name": "stdout",
     "output_type": "stream",
     "text": [
      "Intercept: -2.8442614767155505\n"
     ]
    }
   ],
   "source": [
    "print(\"Intercept: \" + str(lrModel.intercept))"
   ]
  },
  {
   "cell_type": "markdown",
   "metadata": {},
   "source": [
    "Evaluer votre modele score,courbe roc, precision, rappel, etc...."
   ]
  },
  {
   "cell_type": "code",
   "execution_count": 50,
   "metadata": {},
   "outputs": [],
   "source": [
    "# Extract the summary from the returned LogisticRegressionModel instance trained\n",
    "trainingSummary = lrModel.summary"
   ]
  },
  {
   "cell_type": "code",
   "execution_count": 51,
   "metadata": {},
   "outputs": [
    {
     "name": "stdout",
     "output_type": "stream",
     "text": [
      "+--------------------+-------------------+\n",
      "|                 FPR|                TPR|\n",
      "+--------------------+-------------------+\n",
      "|                 0.0|                0.0|\n",
      "|                 0.0|0.05405405405405406|\n",
      "|                 0.0|0.10953058321479374|\n",
      "|                 0.0|0.16358463726884778|\n",
      "|                 0.0|0.21906116642958748|\n",
      "|                 0.0|0.27311522048364156|\n",
      "|                 0.0| 0.3285917496443812|\n",
      "|                 0.0| 0.3840682788051209|\n",
      "|                 0.0|0.43812233285917496|\n",
      "|                 0.0|0.49359886201991465|\n",
      "|                 0.0| 0.5476529160739687|\n",
      "|                 0.0| 0.6031294452347084|\n",
      "|9.982886480319453E-4|  0.647226173541963|\n",
      "|0.005561893896177981| 0.6571834992887624|\n",
      "|0.009840273816314889| 0.6699857752489331|\n",
      "|0.014831717056474614| 0.6742532005689901|\n",
      "| 0.02010838562464347| 0.6770981507823614|\n",
      "|0.024957216200798632| 0.6827880512091038|\n",
      "|0.029806046776953792|  0.689900426742532|\n",
      "| 0.03451226468910439| 0.6970128022759602|\n",
      "+--------------------+-------------------+\n",
      "only showing top 20 rows\n",
      "\n",
      "areaUnderROC: 0.9043864247350001\n"
     ]
    }
   ],
   "source": [
    "# Obtain the receiver-operating characteristic as a dataframe and areaUnderROC.\n",
    "trainingSummary.roc.show()\n",
    "print(\"areaUnderROC: \" + str(trainingSummary.areaUnderROC))\n"
   ]
  },
  {
   "cell_type": "code",
   "execution_count": 52,
   "metadata": {},
   "outputs": [
    {
     "data": {
      "image/png": "[encoded data removed]",
      "text/plain": [
       "<Figure size 432x288 with 1 Axes>"
      ]
     },
     "metadata": {
      "needs_background": "light"
     },
     "output_type": "display_data"
    },
    {
     "name": "stdout",
     "output_type": "stream",
     "text": [
      "Training set areaUnderROC: 0.9043864247350001\n"
     ]
    }
   ],
   "source": [
    "roc = trainingSummary.roc.toPandas()\n",
    "plt.plot(roc['FPR'],roc['TPR'])\n",
    "plt.ylabel('False Positive Rate')\n",
    "plt.xlabel('True Positive Rate')\n",
    "plt.title('ROC Curve')\n",
    "plt.show()\n",
    "print('Training set areaUnderROC: ' + str(trainingSummary.areaUnderROC))"
   ]
  },
  {
   "cell_type": "code",
   "execution_count": 53,
   "metadata": {},
   "outputs": [
    {
     "name": "stdout",
     "output_type": "stream",
     "text": [
      "+-------------------+------------------+\n",
      "|             recall|         precision|\n",
      "+-------------------+------------------+\n",
      "|                0.0|               1.0|\n",
      "|0.05405405405405406|               1.0|\n",
      "|0.10953058321479374|               1.0|\n",
      "|0.16358463726884778|               1.0|\n",
      "|0.21906116642958748|               1.0|\n",
      "|0.27311522048364156|               1.0|\n",
      "| 0.3285917496443812|               1.0|\n",
      "| 0.3840682788051209|               1.0|\n",
      "|0.43812233285917496|               1.0|\n",
      "|0.49359886201991465|               1.0|\n",
      "| 0.5476529160739687|               1.0|\n",
      "| 0.6031294452347084|               1.0|\n",
      "|  0.647226173541963|0.9848484848484849|\n",
      "| 0.6571834992887624|0.9221556886227545|\n",
      "| 0.6699857752489331|0.8722222222222222|\n",
      "| 0.6742532005689901|0.8200692041522492|\n",
      "| 0.6770981507823614|0.7714748784440842|\n",
      "| 0.6827880512091038| 0.732824427480916|\n",
      "|  0.689900426742532|0.6988472622478387|\n",
      "| 0.6970128022759602|0.6693989071038251|\n",
      "+-------------------+------------------+\n",
      "only showing top 20 rows\n",
      "\n"
     ]
    }
   ],
   "source": [
    "#Precision and Recall\n",
    "pr = trainingSummary.pr.show()"
   ]
  },
  {
   "cell_type": "code",
   "execution_count": 54,
   "metadata": {},
   "outputs": [
    {
     "data": {
      "image/png": "[encoded data removed]",
      "text/plain": [
       "<Figure size 432x288 with 1 Axes>"
      ]
     },
     "metadata": {
      "needs_background": "light"
     },
     "output_type": "display_data"
    }
   ],
   "source": [
    "#plotting Precision and Recall\n",
    "pr = trainingSummary.pr.toPandas()\n",
    "plt.plot(pr['recall'],pr['precision'])\n",
    "plt.ylabel('Precision')\n",
    "plt.xlabel('Recall')\n",
    "plt.show()"
   ]
  },
  {
   "cell_type": "markdown",
   "metadata": {},
   "source": [
    "predire alors les clients lowcoast sur un sample de data n'ayant pas servi à l'apprentissage"
   ]
  },
  {
   "cell_type": "markdown",
   "metadata": {},
   "source": [
    "- ##### Make predictions on the test set"
   ]
  },
  {
   "cell_type": "code",
   "execution_count": 55,
   "metadata": {},
   "outputs": [],
   "source": [
    "predictions_result = lrModel.transform(testData)"
   ]
  },
  {
   "cell_type": "code",
   "execution_count": 56,
   "metadata": {},
   "outputs": [
    {
     "name": "stdout",
     "output_type": "stream",
     "text": [
      "+--------------------+--------------------+--------------------+----------+--------------------+\n",
      "|           ID_CLIENT|flg_cmd_lowcostIndex|       rawPrediction|prediction|         probability|\n",
      "+--------------------+--------------------+--------------------+----------+--------------------+\n",
      "|052f6da65f4a2a4dd...|                 0.0|[4.05777653380142...|       0.0|[0.98300636167207...|\n",
      "|19c66b854864da37b...|                 0.0|[3.75292798601564...|       0.0|[0.97708826992256...|\n",
      "|47a423526fcb294f9...|                 0.0|[3.58037820487900...|       0.0|[0.97289025966139...|\n",
      "|5074f0cc329598ca7...|                 0.0|[2.30250236551066...|       0.0|[0.90908407187742...|\n",
      "|56a5386ba3979a515...|                 0.0|[2.61886239289428...|       0.0|[0.93206570942109...|\n",
      "|8e29a807e0c6dec53...|                 0.0|[2.87537564911393...|       0.0|[0.94661565660866...|\n",
      "|d075a17e7e862d036...|                 0.0|[4.11078815224372...|       0.0|[0.98386960753263...|\n",
      "|d8472800c7b0aee34...|                 0.0|[2.02396948610764...|       0.0|[0.88329083903969...|\n",
      "|ece54c49e93282f59...|                 0.0|[2.78428015333580...|       0.0|[0.94182041824333...|\n",
      "|01624ead1aa8fbffc...|                 0.0|[3.30913180811373...|       0.0|[0.96474076026944...|\n",
      "+--------------------+--------------------+--------------------+----------+--------------------+\n",
      "only showing top 10 rows\n",
      "\n"
     ]
    }
   ],
   "source": [
    "predictions_result.select('ID_CLIENT', 'flg_cmd_lowcostIndex', 'rawPrediction', 'prediction', 'probability').show(10)"
   ]
  },
  {
   "cell_type": "markdown",
   "metadata": {},
   "source": [
    "##### Evaluate our Logistic Regression model."
   ]
  },
  {
   "cell_type": "markdown",
   "metadata": {},
   "source": [
    "- Evaluation with MulticlassClassificationEvaluator function"
   ]
  },
  {
   "cell_type": "code",
   "execution_count": 57,
   "metadata": {},
   "outputs": [],
   "source": [
    "from pyspark.ml.evaluation import MulticlassClassificationEvaluator\n",
    "\n",
    "evaluator = MulticlassClassificationEvaluator(labelCol=\"flg_cmd_lowcostIndex\",predictionCol=\"prediction\",metricName=\"accuracy\")\n",
    "accuracy = evaluator.evaluate(predictions_result)*100"
   ]
  },
  {
   "cell_type": "code",
   "execution_count": 58,
   "metadata": {},
   "outputs": [
    {
     "data": {
      "text/plain": [
       "96.32602655140475"
      ]
     },
     "execution_count": 58,
     "metadata": {},
     "output_type": "execute_result"
    }
   ],
   "source": [
    "accuracy"
   ]
  },
  {
   "cell_type": "markdown",
   "metadata": {},
   "source": [
    "- Score with our compute_score function"
   ]
  },
  {
   "cell_type": "code",
   "execution_count": 59,
   "metadata": {},
   "outputs": [],
   "source": [
    "manual_score = compute_score(predictions_result,\"flg_cmd_lowcostIndex\",\"prediction\")"
   ]
  },
  {
   "cell_type": "code",
   "execution_count": 60,
   "metadata": {},
   "outputs": [
    {
     "data": {
      "text/plain": [
       "96.32602655140475"
      ]
     },
     "execution_count": 60,
     "metadata": {},
     "output_type": "execute_result"
    }
   ],
   "source": [
    "manual_score"
   ]
  },
  {
   "cell_type": "markdown",
   "metadata": {},
   "source": [
    "##### Random Forest"
   ]
  },
  {
   "cell_type": "code",
   "execution_count": 61,
   "metadata": {},
   "outputs": [],
   "source": [
    "classifier = RandomForestClassifier(labelCol=\"flg_cmd_lowcostIndex\",featuresCol=\"indexedFeatures\",maxDepth=15, numTrees=100)\n",
    "model_rf = classifier.fit(trainingData)"
   ]
  },
  {
   "cell_type": "markdown",
   "metadata": {},
   "source": [
    "- ##### Make predictions on the test set"
   ]
  },
  {
   "cell_type": "code",
   "execution_count": 62,
   "metadata": {},
   "outputs": [],
   "source": [
    "predictions_rf = model_rf.transform(testData)"
   ]
  },
  {
   "cell_type": "code",
   "execution_count": 63,
   "metadata": {},
   "outputs": [
    {
     "name": "stdout",
     "output_type": "stream",
     "text": [
      "+--------------------+--------------------+--------------------+----------+--------------------+\n",
      "|           ID_CLIENT|flg_cmd_lowcostIndex|       rawPrediction|prediction|         probability|\n",
      "+--------------------+--------------------+--------------------+----------+--------------------+\n",
      "|052f6da65f4a2a4dd...|                 0.0|[94.3025114873049...|       0.0|[0.94302511487304...|\n",
      "|19c66b854864da37b...|                 0.0|[96.9704653891383...|       0.0|[0.96970465389138...|\n",
      "|47a423526fcb294f9...|                 0.0|[98.9430249001886...|       0.0|[0.98943024900188...|\n",
      "|5074f0cc329598ca7...|                 0.0|[95.8173344196885...|       0.0|[0.95817334419688...|\n",
      "|56a5386ba3979a515...|                 0.0|[90.2632692365559...|       0.0|[0.90263269236555...|\n",
      "|8e29a807e0c6dec53...|                 0.0|[96.6337272876297...|       0.0|[0.96633727287629...|\n",
      "|d075a17e7e862d036...|                 0.0|[97.9054072874855...|       0.0|[0.97905407287485...|\n",
      "|d8472800c7b0aee34...|                 0.0|[98.8364673657519...|       0.0|[0.98836467365751...|\n",
      "|ece54c49e93282f59...|                 0.0|[90.7567406201749...|       0.0|[0.90756740620174...|\n",
      "|01624ead1aa8fbffc...|                 0.0|[97.5506838957640...|       0.0|[0.97550683895764...|\n",
      "+--------------------+--------------------+--------------------+----------+--------------------+\n",
      "only showing top 10 rows\n",
      "\n"
     ]
    }
   ],
   "source": [
    "predictions_rf.select('ID_CLIENT', 'flg_cmd_lowcostIndex', 'rawPrediction', 'prediction', 'probability').show(10)"
   ]
  },
  {
   "cell_type": "markdown",
   "metadata": {},
   "source": [
    "- ##### Evaluate our Random Forest model."
   ]
  },
  {
   "cell_type": "markdown",
   "metadata": {},
   "source": [
    "- Evaluation with MulticlassClassificationEvaluator function"
   ]
  },
  {
   "cell_type": "code",
   "execution_count": 64,
   "metadata": {
    "scrolled": true
   },
   "outputs": [],
   "source": [
    "from pyspark.ml.evaluation import MulticlassClassificationEvaluator\n",
    "evaluator = MulticlassClassificationEvaluator(labelCol=\"flg_cmd_lowcostIndex\",predictionCol=\"prediction\",metricName=\"accuracy\")"
   ]
  },
  {
   "cell_type": "markdown",
   "metadata": {},
   "source": [
    "Evaluer soit meme le score en calculant le nombre de VP, FP, VN et FN\n",
    "on calculera alors le score qui VP+VN/VP+VN+FP+FN\n",
    "nb: la prediction est automatiquement creee dans le data set et correspond à la colonne prediction"
   ]
  },
  {
   "cell_type": "code",
   "execution_count": 65,
   "metadata": {},
   "outputs": [
    {
     "data": {
      "text/plain": [
       "0"
      ]
     },
     "execution_count": 65,
     "metadata": {},
     "output_type": "execute_result"
    }
   ],
   "source": [
    "#False Negative\n",
    "FN = predictions_rf.where(\"prediction = 1 and flg_cmd_lowcostIndex=0\").count()\n",
    "FN"
   ]
  },
  {
   "cell_type": "code",
   "execution_count": 66,
   "metadata": {},
   "outputs": [
    {
     "data": {
      "text/plain": [
       "117"
      ]
     },
     "execution_count": 66,
     "metadata": {},
     "output_type": "execute_result"
    }
   ],
   "source": [
    "#False Positive\n",
    "FP = predictions_rf.where(\"prediction = 0 and flg_cmd_lowcostIndex=1\").count()\n",
    "FP"
   ]
  },
  {
   "cell_type": "code",
   "execution_count": 67,
   "metadata": {},
   "outputs": [
    {
     "data": {
      "text/plain": [
       "185"
      ]
     },
     "execution_count": 67,
     "metadata": {},
     "output_type": "execute_result"
    }
   ],
   "source": [
    "#True Positive\n",
    "VP = predictions_rf.where(\"prediction = 1 and flg_cmd_lowcostIndex=1\").count()\n",
    "VP"
   ]
  },
  {
   "cell_type": "code",
   "execution_count": 68,
   "metadata": {},
   "outputs": [
    {
     "data": {
      "text/plain": [
       "2937"
      ]
     },
     "execution_count": 68,
     "metadata": {},
     "output_type": "execute_result"
    }
   ],
   "source": [
    "#True Negative\n",
    "VN = predictions_rf.where(\"prediction = 0 and flg_cmd_lowcostIndex=0\").count()\n",
    "VN"
   ]
  },
  {
   "cell_type": "code",
   "execution_count": 69,
   "metadata": {},
   "outputs": [
    {
     "data": {
      "text/plain": [
       "96.38777400432232"
      ]
     },
     "execution_count": 69,
     "metadata": {},
     "output_type": "execute_result"
    }
   ],
   "source": [
    "#Compute Score\n",
    "Score = (VP+VN)/(VP+VN+FP+FN)\n",
    "Score*100"
   ]
  },
  {
   "cell_type": "code",
   "execution_count": 70,
   "metadata": {},
   "outputs": [
    {
     "data": {
      "text/plain": [
       "96.38777400432232"
      ]
     },
     "execution_count": 70,
     "metadata": {},
     "output_type": "execute_result"
    }
   ],
   "source": [
    "#Score using MulticlassClassificationEvaluator evaluate function\n",
    "accuracy = evaluator.evaluate(predictions_rf)*100\n",
    "accuracy"
   ]
  },
  {
   "cell_type": "code",
   "execution_count": 71,
   "metadata": {},
   "outputs": [
    {
     "data": {
      "text/plain": [
       "96.38777400432232"
      ]
     },
     "execution_count": 71,
     "metadata": {},
     "output_type": "execute_result"
    }
   ],
   "source": [
    "#Compute Score using our Compute_Score function\n",
    "manual_score = compute_score(predictions_rf,\"flg_cmd_lowcostIndex\",\"prediction\")\n",
    "manual_score"
   ]
  },
  {
   "cell_type": "markdown",
   "metadata": {},
   "source": [
    "calculer egalement le rappel et la precision"
   ]
  },
  {
   "cell_type": "code",
   "execution_count": 72,
   "metadata": {},
   "outputs": [
    {
     "data": {
      "text/plain": [
       "1.0"
      ]
     },
     "execution_count": 72,
     "metadata": {},
     "output_type": "execute_result"
    }
   ],
   "source": [
    "#Compute recall\n",
    "recall = VP/(VP+FN)\n",
    "recall"
   ]
  },
  {
   "cell_type": "code",
   "execution_count": 73,
   "metadata": {},
   "outputs": [
    {
     "data": {
      "text/plain": [
       "0.6125827814569537"
      ]
     },
     "execution_count": 73,
     "metadata": {},
     "output_type": "execute_result"
    }
   ],
   "source": [
    "#Compute precision\n",
    "precision = VP/(VP+FP)\n",
    "precision"
   ]
  },
  {
   "cell_type": "code",
   "execution_count": 74,
   "metadata": {},
   "outputs": [],
   "source": [
    "#from pyspark.ml.linalg import Vectors\n",
    "#scoreAndLabels = map(lambda x: (Vectors.dense([1.0 - x[0], x[0]]), x[1]),\n",
    "#                     [(0.1, 0.0), (0.1, 1.0), (0.4, 0.0), (0.6, 0.0), (0.6, 1.0), (0.6, 1.0), (0.8, 1.0)])\n",
    "#dataset = spark_session.createDataFrame(scoreAndLabels, [\"raw\", \"label\"])\n",
    "#dataset.head()"
   ]
  },
  {
   "cell_type": "markdown",
   "metadata": {},
   "source": [
    "#### how to create a spark data frame"
   ]
  },
  {
   "cell_type": "code",
   "execution_count": 75,
   "metadata": {},
   "outputs": [
    {
     "data": {
      "text/html": [
       "<div>\n",
       "<style scoped>\n",
       "    .dataframe tbody tr th:only-of-type {\n",
       "        vertical-align: middle;\n",
       "    }\n",
       "\n",
       "    .dataframe tbody tr th {\n",
       "        vertical-align: top;\n",
       "    }\n",
       "\n",
       "    .dataframe thead th {\n",
       "        text-align: right;\n",
       "    }\n",
       "</style>\n",
       "<table border=\"1\" class=\"dataframe\">\n",
       "  <thead>\n",
       "    <tr style=\"text-align: right;\">\n",
       "      <th></th>\n",
       "      <th>age</th>\n",
       "      <th>date</th>\n",
       "      <th>genre</th>\n",
       "      <th>name</th>\n",
       "    </tr>\n",
       "  </thead>\n",
       "  <tbody>\n",
       "    <tr>\n",
       "      <th>0</th>\n",
       "      <td>25</td>\n",
       "      <td>2018-01-03</td>\n",
       "      <td>Fille</td>\n",
       "      <td>Ankit</td>\n",
       "    </tr>\n",
       "    <tr>\n",
       "      <th>1</th>\n",
       "      <td>22</td>\n",
       "      <td>2018-02-03</td>\n",
       "      <td>Fille</td>\n",
       "      <td>Jalfaizy</td>\n",
       "    </tr>\n",
       "    <tr>\n",
       "      <th>2</th>\n",
       "      <td>20</td>\n",
       "      <td>2018-01-05</td>\n",
       "      <td>Fille</td>\n",
       "      <td>saurabh</td>\n",
       "    </tr>\n",
       "    <tr>\n",
       "      <th>3</th>\n",
       "      <td>26</td>\n",
       "      <td>2018-01-12</td>\n",
       "      <td>Fille</td>\n",
       "      <td>Bala</td>\n",
       "    </tr>\n",
       "    <tr>\n",
       "      <th>4</th>\n",
       "      <td>19</td>\n",
       "      <td>2018-07-09</td>\n",
       "      <td>Fille</td>\n",
       "      <td>Jules</td>\n",
       "    </tr>\n",
       "  </tbody>\n",
       "</table>\n",
       "</div>"
      ],
      "text/plain": [
       "   age        date  genre      name\n",
       "0   25  2018-01-03  Fille     Ankit\n",
       "1   22  2018-02-03  Fille  Jalfaizy\n",
       "2   20  2018-01-05  Fille   saurabh\n",
       "3   26  2018-01-12  Fille      Bala\n",
       "4   19  2018-07-09  Fille     Jules"
      ]
     },
     "execution_count": 75,
     "metadata": {},
     "output_type": "execute_result"
    }
   ],
   "source": [
    "from pyspark.sql import Row\n",
    "import datetime\n",
    "\n",
    "l = [(datetime.date(2018,1,3), 'Ankit',25,'Fille'),\n",
    "     (datetime.date(2018,2,3), 'Jalfaizy',22,'Fille'),\n",
    "     (datetime.date(2018,1,5), 'saurabh',20,'Fille'),\n",
    "     (datetime.date(2018,1,12), 'Bala',26,'Fille'),\n",
    "     (datetime.date(2018,7,9), 'Jules',19,'Fille') ,\n",
    "     (datetime.date(2018,3,18), 'Arild',43,'Garçon'),\n",
    "     (datetime.date(2018,1,5), 'sarah',20,'Garçon'),\n",
    "     (datetime.date(2018,8,12), 'Boly',33,'Garçon'),\n",
    "     (datetime.date(2018,4,6), 'Anita',35,'Garçon'),\n",
    "     (datetime.date(2018,12,6), 'Jules',22,'Garçon'),\n",
    "     (datetime.date(2018,7,24), 'Soul',20,'Fille'),\n",
    "     (datetime.date(2018,6,17), 'Gral',54,'Fille'),\n",
    "     (datetime.date(2018,9,7), 'Apoh',18,'Fille'),\n",
    "     (datetime.date(2018,10,4), 'Dony',32,'Fille'),\n",
    "     (datetime.date(2018,2,5), 'Tanoh',31,'Fille'),\n",
    "     (datetime.date(2018,11,12), 'Issouf',27,'Garçon'),\n",
    "     (datetime.date(2018,10,3), 'Bilé',29,'Garçon'),\n",
    "     (datetime.date(2018,5,3), 'Gagnon',20,'Garçon'),\n",
    "     (datetime.date(2018,3,5), 'Papiss',28,'Garçon'),\n",
    "     (datetime.date(2018,2,12), 'Kravitz',34,'Garçon'),\n",
    "     (datetime.date(2018,5,9), 'Mouli',35,'Fille'),\n",
    "     (datetime.date(2018,8,3), 'Jacques',27,'Fille'),\n",
    "     (datetime.date(2018,12,5), 'soum',22,'Fille'),\n",
    "     (datetime.date(2018,4,12), 'MBra',36,'Fille')]\n",
    "\n",
    "rdd = spark_session.sparkContext.parallelize(l)\n",
    "people = rdd.map(lambda x: Row(date=x[0], name=x[1], age=int(x[2]), genre=x[3]))\n",
    "schemaPeople = spark_session.createDataFrame(people)\n",
    "schemaPeople.toPandas().head()"
   ]
  },
  {
   "cell_type": "code",
   "execution_count": 76,
   "metadata": {},
   "outputs": [
    {
     "data": {
      "text/plain": [
       "24"
      ]
     },
     "execution_count": 76,
     "metadata": {},
     "output_type": "execute_result"
    }
   ],
   "source": [
    "#1- Count total number of personn\n",
    "schemaPeople.count()"
   ]
  },
  {
   "cell_type": "code",
   "execution_count": 77,
   "metadata": {},
   "outputs": [
    {
     "data": {
      "text/plain": [
       "14"
      ]
     },
     "execution_count": 77,
     "metadata": {},
     "output_type": "execute_result"
    }
   ],
   "source": [
    "#2- Count number of girls\n",
    "schemaPeople[schemaPeople.genre == 'Fille'].count()"
   ]
  },
  {
   "cell_type": "code",
   "execution_count": 78,
   "metadata": {},
   "outputs": [
    {
     "data": {
      "text/plain": [
       "10"
      ]
     },
     "execution_count": 78,
     "metadata": {},
     "output_type": "execute_result"
    }
   ],
   "source": [
    "#2- Count number of boys\n",
    "schemaPeople[schemaPeople.genre == 'Garçon'].count()"
   ]
  },
  {
   "cell_type": "code",
   "execution_count": 79,
   "metadata": {},
   "outputs": [
    {
     "name": "stdout",
     "output_type": "stream",
     "text": [
      "+------+----+\n",
      "| genre|nbre|\n",
      "+------+----+\n",
      "|Garçon|  10|\n",
      "| Fille|  14|\n",
      "+------+----+\n",
      "\n"
     ]
    }
   ],
   "source": [
    "#2 We can also count distinct gender with a groupBy expression\n",
    "schemaPeople.groupBy(\"genre\").agg(f.count('*').alias('nbre')).show()"
   ]
  },
  {
   "cell_type": "code",
   "execution_count": 80,
   "metadata": {},
   "outputs": [],
   "source": [
    "#3- What is the mean, median, mini and maxiage in each group(garcon, fille)\n",
    "DF = schemaPeople.groupBy('genre').agg(f.min('age').alias('minAge'),f.max('age').alias('maxAge'),\n",
    "                                       f.avg('age').alias('meanAge'),f.count('*').alias('nbre'))"
   ]
  },
  {
   "cell_type": "code",
   "execution_count": 81,
   "metadata": {},
   "outputs": [
    {
     "name": "stdout",
     "output_type": "stream",
     "text": [
      "+------+------+------+------------------+----+\n",
      "| genre|minAge|maxAge|           meanAge|nbre|\n",
      "+------+------+------+------------------+----+\n",
      "|Garçon|    20|    43|              29.1|  10|\n",
      "| Fille|    18|    54|27.642857142857142|  14|\n",
      "+------+------+------+------------------+----+\n",
      "\n"
     ]
    }
   ],
   "source": [
    "DF.show()"
   ]
  },
  {
   "cell_type": "code",
   "execution_count": 82,
   "metadata": {},
   "outputs": [],
   "source": [
    "#median value\n",
    "med = schemaPeople.approxQuantile('age',[0.5],0.01)"
   ]
  },
  {
   "cell_type": "code",
   "execution_count": 83,
   "metadata": {},
   "outputs": [
    {
     "data": {
      "text/plain": [
       "27.0"
      ]
     },
     "execution_count": 83,
     "metadata": {},
     "output_type": "execute_result"
    }
   ],
   "source": [
    "med[0]"
   ]
  },
  {
   "cell_type": "code",
   "execution_count": 84,
   "metadata": {},
   "outputs": [],
   "source": [
    "#median value by sex\n",
    "G = schemaPeople[schemaPeople.genre=='Garçon'].approxQuantile('age',[0.5],0.01)#median value for the group : Garçon\n",
    "F = schemaPeople[schemaPeople.genre=='Fille'].approxQuantile('age',[0.5],0.01)#median value for the group : Fille"
   ]
  },
  {
   "cell_type": "code",
   "execution_count": 85,
   "metadata": {},
   "outputs": [],
   "source": [
    "#adding median values to our table\n",
    "import pandas as pd\n",
    "sex_group = pd.DataFrame({'id':['Garçon','Fille'],'median':[G[0],F[0]]})"
   ]
  },
  {
   "cell_type": "code",
   "execution_count": 86,
   "metadata": {},
   "outputs": [],
   "source": [
    "new_df = pd.concat([DF.toPandas(),sex_group],axis=1)"
   ]
  },
  {
   "cell_type": "code",
   "execution_count": 87,
   "metadata": {},
   "outputs": [
    {
     "data": {
      "text/html": [
       "<div>\n",
       "<style scoped>\n",
       "    .dataframe tbody tr th:only-of-type {\n",
       "        vertical-align: middle;\n",
       "    }\n",
       "\n",
       "    .dataframe tbody tr th {\n",
       "        vertical-align: top;\n",
       "    }\n",
       "\n",
       "    .dataframe thead th {\n",
       "        text-align: right;\n",
       "    }\n",
       "</style>\n",
       "<table border=\"1\" class=\"dataframe\">\n",
       "  <thead>\n",
       "    <tr style=\"text-align: right;\">\n",
       "      <th></th>\n",
       "      <th>genre</th>\n",
       "      <th>minAge</th>\n",
       "      <th>maxAge</th>\n",
       "      <th>meanAge</th>\n",
       "      <th>nbre</th>\n",
       "      <th>median</th>\n",
       "    </tr>\n",
       "  </thead>\n",
       "  <tbody>\n",
       "    <tr>\n",
       "      <th>0</th>\n",
       "      <td>Garçon</td>\n",
       "      <td>20</td>\n",
       "      <td>43</td>\n",
       "      <td>29.100000</td>\n",
       "      <td>10</td>\n",
       "      <td>28.0</td>\n",
       "    </tr>\n",
       "    <tr>\n",
       "      <th>1</th>\n",
       "      <td>Fille</td>\n",
       "      <td>18</td>\n",
       "      <td>54</td>\n",
       "      <td>27.642857</td>\n",
       "      <td>14</td>\n",
       "      <td>25.0</td>\n",
       "    </tr>\n",
       "  </tbody>\n",
       "</table>\n",
       "</div>"
      ],
      "text/plain": [
       "    genre  minAge  maxAge    meanAge  nbre  median\n",
       "0  Garçon      20      43  29.100000    10    28.0\n",
       "1   Fille      18      54  27.642857    14    25.0"
      ]
     },
     "execution_count": 87,
     "metadata": {},
     "output_type": "execute_result"
    }
   ],
   "source": [
    "new_df.drop('id',axis=1)"
   ]
  },
  {
   "cell_type": "code",
   "execution_count": 88,
   "metadata": {},
   "outputs": [
    {
     "name": "stdout",
     "output_type": "stream",
     "text": [
      "+--------+--------+--------+\n",
      "|avg(age)|min(age)|max(age)|\n",
      "+--------+--------+--------+\n",
      "|   28.25|      18|      54|\n",
      "+--------+--------+--------+\n",
      "\n"
     ]
    }
   ],
   "source": [
    "from pyspark.sql.functions import mean, min, max\n",
    "result = schemaPeople.select([mean(\"age\"), min(\"age\"), max(\"age\")])\n",
    "result.show()"
   ]
  },
  {
   "cell_type": "code",
   "execution_count": 89,
   "metadata": {},
   "outputs": [],
   "source": [
    "#4 - what is the date of each customer's last visit compared to today's date\n",
    "dd = schemaPeople.select(\"*\",\n",
    "                         f.lit(datetime.date.today()).alias(\"date_max\"))\n",
    "good_val = dd.select(\"*\", f.datediff('date_max', 'date')\\\n",
    "                    .alias('days_since_last_visit'))#.toPandas()"
   ]
  },
  {
   "cell_type": "code",
   "execution_count": 90,
   "metadata": {},
   "outputs": [
    {
     "name": "stdout",
     "output_type": "stream",
     "text": [
      "+---+----------+------+--------+----------+---------------------+\n",
      "|age|      date| genre|    name|  date_max|days_since_last_visit|\n",
      "+---+----------+------+--------+----------+---------------------+\n",
      "| 25|2018-01-03| Fille|   Ankit|2019-11-03|                  669|\n",
      "| 22|2018-02-03| Fille|Jalfaizy|2019-11-03|                  638|\n",
      "| 20|2018-01-05| Fille| saurabh|2019-11-03|                  667|\n",
      "| 26|2018-01-12| Fille|    Bala|2019-11-03|                  660|\n",
      "| 19|2018-07-09| Fille|   Jules|2019-11-03|                  482|\n",
      "| 43|2018-03-18|Garçon|   Arild|2019-11-03|                  595|\n",
      "| 20|2018-01-05|Garçon|   sarah|2019-11-03|                  667|\n",
      "| 33|2018-08-12|Garçon|    Boly|2019-11-03|                  448|\n",
      "| 35|2018-04-06|Garçon|   Anita|2019-11-03|                  576|\n",
      "| 22|2018-12-06|Garçon|   Jules|2019-11-03|                  332|\n",
      "| 20|2018-07-24| Fille|    Soul|2019-11-03|                  467|\n",
      "| 54|2018-06-17| Fille|    Gral|2019-11-03|                  504|\n",
      "| 18|2018-09-07| Fille|    Apoh|2019-11-03|                  422|\n",
      "| 32|2018-10-04| Fille|    Dony|2019-11-03|                  395|\n",
      "| 31|2018-02-05| Fille|   Tanoh|2019-11-03|                  636|\n",
      "| 27|2018-11-12|Garçon|  Issouf|2019-11-03|                  356|\n",
      "| 29|2018-10-03|Garçon|    Bilé|2019-11-03|                  396|\n",
      "| 20|2018-05-03|Garçon|  Gagnon|2019-11-03|                  549|\n",
      "| 28|2018-03-05|Garçon|  Papiss|2019-11-03|                  608|\n",
      "| 34|2018-02-12|Garçon| Kravitz|2019-11-03|                  629|\n",
      "+---+----------+------+--------+----------+---------------------+\n",
      "only showing top 20 rows\n",
      "\n"
     ]
    }
   ],
   "source": [
    "good_val.show()#.toPandas().head()"
   ]
  },
  {
   "cell_type": "code",
   "execution_count": 91,
   "metadata": {},
   "outputs": [],
   "source": [
    "#5 - who are persons who have visit date < 400 days."
   ]
  },
  {
   "cell_type": "code",
   "execution_count": 92,
   "metadata": {},
   "outputs": [
    {
     "name": "stdout",
     "output_type": "stream",
     "text": [
      "+---+----------+------+------+----------+---------------------+\n",
      "|age|      date| genre|  name|  date_max|days_since_last_visit|\n",
      "+---+----------+------+------+----------+---------------------+\n",
      "| 22|2018-12-06|Garçon| Jules|2019-11-03|                  332|\n",
      "| 32|2018-10-04| Fille|  Dony|2019-11-03|                  395|\n",
      "| 27|2018-11-12|Garçon|Issouf|2019-11-03|                  356|\n",
      "| 29|2018-10-03|Garçon|  Bilé|2019-11-03|                  396|\n",
      "| 22|2018-12-05| Fille|  soum|2019-11-03|                  333|\n",
      "+---+----------+------+------+----------+---------------------+\n",
      "\n"
     ]
    }
   ],
   "source": [
    "nbre_personnes = good_val.where(good_val.days_since_last_visit<400)\n",
    "nbre_personnes.show()"
   ]
  },
  {
   "cell_type": "code",
   "execution_count": 93,
   "metadata": {},
   "outputs": [
    {
     "data": {
      "text/plain": [
       "5"
      ]
     },
     "execution_count": 93,
     "metadata": {},
     "output_type": "execute_result"
    }
   ],
   "source": [
    "#How many are they?\n",
    "nbre_personnes.count()"
   ]
  }
 ],
 "metadata": {
  "anaconda-cloud": {},
  "kernelspec": {
   "display_name": "Python 3",
   "language": "python",
   "name": "python3"
  },
  "language_info": {
   "codemirror_mode": {
    "name": "ipython",
    "version": 3
   },
   "file_extension": ".py",
   "mimetype": "text/x-python",
   "name": "python",
   "nbconvert_exporter": "python",
   "pygments_lexer": "ipython3",
   "version": "3.7.3"
  }
 },
 "nbformat": 4,
 "nbformat_minor": 2
}
